{
 "cells": [
  {
   "cell_type": "code",
   "execution_count": 32,
   "id": "expected-framing",
   "metadata": {},
   "outputs": [],
   "source": [
    "import numpy as np\n",
    "import pandas as pd"
   ]
  },
  {
   "cell_type": "code",
   "execution_count": 33,
   "id": "adjacent-bruce",
   "metadata": {},
   "outputs": [],
   "source": [
    "df_items = pd.read_csv(\"../experiment_sem2/exp_items.csv\")"
   ]
  },
  {
   "cell_type": "code",
   "execution_count": 34,
   "id": "musical-berry",
   "metadata": {},
   "outputs": [],
   "source": [
    "stems = {\"caused\": \"cause\",\n",
    "         \"enabled\": \"enable\",\n",
    "         \"affected\": \"affect\"}"
   ]
  },
  {
   "cell_type": "code",
   "execution_count": 35,
   "id": "distinguished-break",
   "metadata": {},
   "outputs": [
    {
     "name": "stderr",
     "output_type": "stream",
     "text": [
      "/Users/abeller/opt/miniconda3/envs/causal_language/lib/python3.7/site-packages/ipykernel_launcher.py:18: SettingWithCopyWarning: \n",
      "A value is trying to be set on a copy of a slice from a DataFrame\n",
      "\n",
      "See the caveats in the documentation: https://pandas.pydata.org/pandas-docs/stable/user_guide/indexing.html#returning-a-view-versus-a-copy\n"
     ]
    }
   ],
   "source": [
    "items = df_items['item']\n",
    "ttypes = df_items['trial_type']\n",
    "\n",
    "for i in range(len(items)):\n",
    "    \n",
    "    if ttypes[i] == \"main\":\n",
    "        item = items[i]\n",
    "        cl1, cl2 = item.split(\",\")\n",
    "        split_cl2 = cl2.split()\n",
    "        \n",
    "        sub = split_cl2[2]\n",
    "        old_verb = split_cl2[3]\n",
    "        \n",
    "        new_verb = stems[old_verb]\n",
    "        \n",
    "        new_cl2 = \" but \" + sub + \" didn't \" + new_verb + \" it.\"\n",
    "        \n",
    "        df_items['item'][i] = cl1 + \",\" + new_cl2"
   ]
  },
  {
   "cell_type": "code",
   "execution_count": 37,
   "id": "sized-poker",
   "metadata": {},
   "outputs": [],
   "source": [
    "df_items.to_csv(\"exp_items.csv\")"
   ]
  }
 ],
 "metadata": {
  "kernelspec": {
   "display_name": "Python 3",
   "language": "python",
   "name": "python3"
  },
  "language_info": {
   "codemirror_mode": {
    "name": "ipython",
    "version": 3
   },
   "file_extension": ".py",
   "mimetype": "text/x-python",
   "name": "python",
   "nbconvert_exporter": "python",
   "pygments_lexer": "ipython3",
   "version": "3.7.9"
  }
 },
 "nbformat": 4,
 "nbformat_minor": 5
}
